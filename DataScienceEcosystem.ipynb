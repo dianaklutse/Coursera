{
 "cells": [
  {
   "cell_type": "markdown",
   "id": "077e6194",
   "metadata": {},
   "source": [
    "# Data Science Tools and Ecosystem"
   ]
  },
  {
   "cell_type": "markdown",
   "id": "3011e72f",
   "metadata": {},
   "source": [
    "In this notebook, Data Science Tools and Ecosystem are summarized"
   ]
  },
  {
   "cell_type": "markdown",
   "id": "addf0764",
   "metadata": {},
   "source": [
    "Some of the popular languages that Data Scientists use are:\n",
    "1. python \n",
    "2. R \n",
    "3. Ruby "
   ]
  },
  {
   "cell_type": "markdown",
   "id": "c1077ea7",
   "metadata": {},
   "source": [
    "Some of the commonly used libraries used by Data Scientists include:\n",
    "\n",
    "1. Pandas\n",
    "2. NumPy\n",
    "3. Matplotlib\n",
    "4. SciPy\n",
    "5. TensorFlow\n",
    "6. SciKit-Learn\n",
    "7. PyTorch"
   ]
  },
  {
   "cell_type": "markdown",
   "id": "e6de73c1",
   "metadata": {},
   "source": [
    "|Data Science Tools|\n",
    "|---|\n",
    "|VS code|\n",
    "|Gitlab|\n",
    "|Spider|\n",
    "|Jupyter Notebook|"
   ]
  },
  {
   "cell_type": "markdown",
   "id": "49c5447d",
   "metadata": {},
   "source": [
    "### Below are a few examples of evaluating arithmetic expressions in Python\n",
    "\n",
    "3 + 4\n",
    "\n",
    "\n",
    "4 - 3"
   ]
  },
  {
   "cell_type": "code",
   "execution_count": 1,
   "id": "030c2da7",
   "metadata": {},
   "outputs": [
    {
     "data": {
      "text/plain": [
       "17"
      ]
     },
     "execution_count": 1,
     "metadata": {},
     "output_type": "execute_result"
    }
   ],
   "source": [
    "#This a simple arithmetic expression to mutiply then add integers\n",
    "\n",
    "(3*4)+5"
   ]
  },
  {
   "cell_type": "code",
   "execution_count": null,
   "id": "dfdde892",
   "metadata": {},
   "outputs": [],
   "source": [
    "#This will convert 200 minutes to hours by diving by 60"
   ]
  },
  {
   "cell_type": "code",
   "execution_count": 6,
   "id": "c58d6c42",
   "metadata": {},
   "outputs": [
    {
     "name": "stdout",
     "output_type": "stream",
     "text": [
      "200 minutes into hours gives: 3.33 hours \n"
     ]
    }
   ],
   "source": [
    "  \n",
    "hours = 200 /(60.0)\n",
    "print(\"200 minutes into hours gives: %.2f hours \" % hours)\n",
    "\n"
   ]
  },
  {
   "cell_type": "markdown",
   "id": "b57e806b",
   "metadata": {},
   "source": [
    "<b>Objectives:<b>\n",
    "    \n",
    "- List popular languages for Data Science  \n",
    "- List commonly used libraries used by Data Scientists\n",
    "- List Data Science Tools\n",
    "- Introducing arithmetic expression    "
   ]
  },
  {
   "cell_type": "markdown",
   "id": "218f84a1",
   "metadata": {},
   "source": [
    " ## Author\n",
    " \n",
    " Diana Klutse"
   ]
  }
 ],
 "metadata": {
  "kernelspec": {
   "display_name": "Python 3 (ipykernel)",
   "language": "python",
   "name": "python3"
  },
  "language_info": {
   "codemirror_mode": {
    "name": "ipython",
    "version": 3
   },
   "file_extension": ".py",
   "mimetype": "text/x-python",
   "name": "python",
   "nbconvert_exporter": "python",
   "pygments_lexer": "ipython3",
   "version": "3.9.12"
  }
 },
 "nbformat": 4,
 "nbformat_minor": 5
}
